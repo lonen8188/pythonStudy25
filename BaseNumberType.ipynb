{
  "nbformat": 4,
  "nbformat_minor": 0,
  "metadata": {
    "colab": {
      "provenance": [],
      "authorship_tag": "ABX9TyPml4/wOC2N/H2iiX1I/JK5",
      "include_colab_link": true
    },
    "kernelspec": {
      "name": "python3",
      "display_name": "Python 3"
    },
    "language_info": {
      "name": "python"
    }
  },
  "cells": [
    {
      "cell_type": "markdown",
      "metadata": {
        "id": "view-in-github",
        "colab_type": "text"
      },
      "source": [
        "<a href=\"https://colab.research.google.com/github/lonen8188/pythonStudy25/blob/master/BaseNumberType.ipynb\" target=\"_parent\"><img src=\"https://colab.research.google.com/assets/colab-badge.svg\" alt=\"Open In Colab\"/></a>"
      ]
    },
    {
      "cell_type": "code",
      "execution_count": 4,
      "metadata": {
        "colab": {
          "base_uri": "https://localhost:8080/"
        },
        "id": "TiXSIxFu6zA0",
        "outputId": "8448aee4-399d-48d9-ba02-b6ff6aa6376c"
      },
      "outputs": [
        {
          "output_type": "stream",
          "name": "stdout",
          "text": [
            "123\n",
            "-123\n",
            "0\n"
          ]
        }
      ],
      "source": [
        "# 주석은 실행이 되지 않는 문구를 말한다.\n",
        "# 주석은 코드에 설명을 작성하는 부분으로 많이 사용한다.\n",
        "\n",
        "# 숫자 자료형 (Number타입) : 숫자 형태로 이루어진 자료형\n",
        "# 123 정수형\n",
        "# 12.34 실수형\n",
        "# 8진수, 16진수 등도 포함된다.\n",
        "\n",
        "# 정수형 (integer) 양의정수, 음의정수, 0 등을 표현\n",
        "a = 123         # 자바인경우 : int a = 123 ;\n",
        "b = -123\n",
        "c = 0\n",
        "\n",
        "print(a)\n",
        "print(b)\n",
        "print(c)"
      ]
    },
    {
      "cell_type": "code",
      "source": [
        "# 실수형(floating-point) : 소수점이 포함된 숫자\n",
        "\n",
        "d = 1.2\n",
        "e = -3.45\n",
        "\n",
        "print(d)\n",
        "print(e)"
      ],
      "metadata": {
        "colab": {
          "base_uri": "https://localhost:8080/"
        },
        "id": "iS8M8KpY8_py",
        "outputId": "f07377c0-1b9c-4854-cb18-cd198b72dc14"
      },
      "execution_count": 5,
      "outputs": [
        {
          "output_type": "stream",
          "name": "stdout",
          "text": [
            "1.2\n",
            "-3.45\n"
          ]
        }
      ]
    },
    {
      "cell_type": "code",
      "source": [
        "# 지수표현 방법\n",
        "f = 1.23E3      # 1.23*10^3\n",
        "g = 1.23e-3     # 1.23*10^-3\n",
        "\n",
        "print(f)\n",
        "print(g)"
      ],
      "metadata": {
        "colab": {
          "base_uri": "https://localhost:8080/"
        },
        "id": "igcrfBeO9XV7",
        "outputId": "f6554b8d-48db-4477-f095-825fe0ebb9fd"
      },
      "execution_count": 8,
      "outputs": [
        {
          "output_type": "stream",
          "name": "stdout",
          "text": [
            "1230.0\n",
            "0.00123\n"
          ]
        }
      ]
    },
    {
      "cell_type": "code",
      "source": [
        "# 8진수 -> 0~7까지 8개로 구현되는 숫자\n",
        "# 16진수 -> 0~F까지 16개로 구현되는 숫자\n",
        "\n",
        "h = 0o77    # 8진수 77\n",
        "print(h)    # 10진수 변환 출력 63\n",
        "\n",
        "i = 0xaa    # 16진수 aa\n",
        "print(i)    # 10진수 변환 출력 170"
      ],
      "metadata": {
        "colab": {
          "base_uri": "https://localhost:8080/"
        },
        "id": "WPQCgcid-XGC",
        "outputId": "6a414cbc-1b39-4f33-8c2c-761472eedfc5"
      },
      "execution_count": 11,
      "outputs": [
        {
          "output_type": "stream",
          "name": "stdout",
          "text": [
            "63\n",
            "170\n"
          ]
        }
      ]
    },
    {
      "cell_type": "code",
      "source": [
        "# 사칙연산(+, -, *, /) -> 오칙연산 (+, -, *, /, %:나머지)\n",
        "\n",
        "a = 3\n",
        "b = 4\n",
        "c = a + b\n",
        "print(c)"
      ],
      "metadata": {
        "colab": {
          "base_uri": "https://localhost:8080/"
        },
        "id": "TtbS0stCAdED",
        "outputId": "133ea30f-5bd7-4e14-aa3c-655cc1a62baf"
      },
      "execution_count": 13,
      "outputs": [
        {
          "output_type": "stream",
          "name": "stdout",
          "text": [
            "7\n"
          ]
        }
      ]
    },
    {
      "cell_type": "code",
      "source": [
        "d = a - b\n",
        "print(d)"
      ],
      "metadata": {
        "colab": {
          "base_uri": "https://localhost:8080/"
        },
        "id": "k7nW_K-yGGUs",
        "outputId": "fe6b42f8-3257-48d0-b7bc-0a49d7e97cf5"
      },
      "execution_count": 15,
      "outputs": [
        {
          "output_type": "stream",
          "name": "stdout",
          "text": [
            "-1\n"
          ]
        }
      ]
    },
    {
      "cell_type": "code",
      "source": [
        "e = 7 % 3  # 나머지를 구하는 연산자\n",
        "print(e)"
      ],
      "metadata": {
        "colab": {
          "base_uri": "https://localhost:8080/"
        },
        "id": "s7FUaaYVGMxL",
        "outputId": "80e5351a-12c7-474a-ebcd-2467095fdd0c"
      },
      "execution_count": 17,
      "outputs": [
        {
          "output_type": "stream",
          "name": "stdout",
          "text": [
            "1\n"
          ]
        }
      ]
    },
    {
      "cell_type": "code",
      "source": [
        "f = 7 / 3  # 나누기를 하는 연산자\n",
        "print(f)"
      ],
      "metadata": {
        "colab": {
          "base_uri": "https://localhost:8080/"
        },
        "id": "Eb4DwTp_GhBz",
        "outputId": "1c70e018-6482-49f6-932f-96838edc31d7"
      },
      "execution_count": 18,
      "outputs": [
        {
          "output_type": "stream",
          "name": "stdout",
          "text": [
            "2.3333333333333335\n"
          ]
        }
      ]
    },
    {
      "cell_type": "code",
      "source": [
        "g = 7 // 3  # 나눈 몫을 구하는 연산자\n",
        "print(g)"
      ],
      "metadata": {
        "colab": {
          "base_uri": "https://localhost:8080/"
        },
        "id": "uLgprKj-Gute",
        "outputId": "837686c8-2ef4-48df-c55c-d21782046e57"
      },
      "execution_count": 19,
      "outputs": [
        {
          "output_type": "stream",
          "name": "stdout",
          "text": [
            "2\n"
          ]
        }
      ]
    },
    {
      "cell_type": "code",
      "source": [
        "a = 3\n",
        "b = 4\n",
        "a ** b  # a 제곱 b"
      ],
      "metadata": {
        "colab": {
          "base_uri": "https://localhost:8080/"
        },
        "id": "4HgqJf-dHFnz",
        "outputId": "69c78bb8-44a2-428c-c4f5-68794f8ffbbb"
      },
      "execution_count": 20,
      "outputs": [
        {
          "output_type": "execute_result",
          "data": {
            "text/plain": [
              "81"
            ]
          },
          "metadata": {},
          "execution_count": 20
        }
      ]
    },
    {
      "cell_type": "code",
      "source": [
        "# 복합연산자\n",
        "a = 1\n",
        "a = a + 1  # a = 1 + 1\n",
        "print(a)"
      ],
      "metadata": {
        "colab": {
          "base_uri": "https://localhost:8080/"
        },
        "id": "NkmVesRMHWtb",
        "outputId": "17e0e2a5-0e63-4bfd-9481-b2ee6d0fdfb2"
      },
      "execution_count": 21,
      "outputs": [
        {
          "output_type": "stream",
          "name": "stdout",
          "text": [
            "2\n"
          ]
        }
      ]
    },
    {
      "cell_type": "code",
      "source": [
        "a += 1  # a = a + 1\n",
        "print(a)\n",
        "\n",
        "# 유사 형태 -= , *= , /= , %="
      ],
      "metadata": {
        "colab": {
          "base_uri": "https://localhost:8080/"
        },
        "id": "iNv8hW0RHqG8",
        "outputId": "589fa80c-8d9e-42fa-c5de-a1db3d95acc3"
      },
      "execution_count": 22,
      "outputs": [
        {
          "output_type": "stream",
          "name": "stdout",
          "text": [
            "3\n"
          ]
        }
      ]
    }
  ]
}